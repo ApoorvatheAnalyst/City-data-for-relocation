{
 "cells": [
  {
   "cell_type": "markdown",
   "id": "b3934ba8",
   "metadata": {},
   "source": [
    "# importing necessary libraries"
   ]
  },
  {
   "cell_type": "code",
   "execution_count": 1,
   "id": "f9dceb0b",
   "metadata": {},
   "outputs": [],
   "source": [
    "import matplotlib.pyplot as plt\n",
    "from tabulate import tabulate\n",
    "import matplotlib as mat\n",
    "import seaborn as sns\n",
    "import pandas as pd\n",
    "import numpy as np"
   ]
  },
  {
   "cell_type": "markdown",
   "id": "eadcd244",
   "metadata": {},
   "source": [
    "# Reading the data file"
   ]
  },
  {
   "cell_type": "code",
   "execution_count": 2,
   "id": "60e13247",
   "metadata": {},
   "outputs": [
    {
     "data": {
      "text/html": [
       "<div>\n",
       "<style scoped>\n",
       "    .dataframe tbody tr th:only-of-type {\n",
       "        vertical-align: middle;\n",
       "    }\n",
       "\n",
       "    .dataframe tbody tr th {\n",
       "        vertical-align: top;\n",
       "    }\n",
       "\n",
       "    .dataframe thead th {\n",
       "        text-align: right;\n",
       "    }\n",
       "</style>\n",
       "<table border=\"1\" class=\"dataframe\">\n",
       "  <thead>\n",
       "    <tr style=\"text-align: right;\">\n",
       "      <th></th>\n",
       "      <th>city</th>\n",
       "      <th>area</th>\n",
       "      <th>rooms</th>\n",
       "      <th>bathroom</th>\n",
       "      <th>parking spaces</th>\n",
       "      <th>floor</th>\n",
       "      <th>animal</th>\n",
       "      <th>furniture</th>\n",
       "      <th>hoa (R$)</th>\n",
       "      <th>rent amount (R$)</th>\n",
       "      <th>property tax (R$)</th>\n",
       "      <th>fire insurance (R$)</th>\n",
       "      <th>total (R$)</th>\n",
       "    </tr>\n",
       "  </thead>\n",
       "  <tbody>\n",
       "    <tr>\n",
       "      <th>0</th>\n",
       "      <td>São Paulo</td>\n",
       "      <td>70</td>\n",
       "      <td>2</td>\n",
       "      <td>1</td>\n",
       "      <td>1</td>\n",
       "      <td>7</td>\n",
       "      <td>acept</td>\n",
       "      <td>furnished</td>\n",
       "      <td>2065</td>\n",
       "      <td>3300</td>\n",
       "      <td>211</td>\n",
       "      <td>42</td>\n",
       "      <td>5618</td>\n",
       "    </tr>\n",
       "    <tr>\n",
       "      <th>1</th>\n",
       "      <td>São Paulo</td>\n",
       "      <td>320</td>\n",
       "      <td>4</td>\n",
       "      <td>4</td>\n",
       "      <td>0</td>\n",
       "      <td>20</td>\n",
       "      <td>acept</td>\n",
       "      <td>not furnished</td>\n",
       "      <td>1200</td>\n",
       "      <td>4960</td>\n",
       "      <td>1750</td>\n",
       "      <td>63</td>\n",
       "      <td>7973</td>\n",
       "    </tr>\n",
       "    <tr>\n",
       "      <th>2</th>\n",
       "      <td>Porto Alegre</td>\n",
       "      <td>80</td>\n",
       "      <td>1</td>\n",
       "      <td>1</td>\n",
       "      <td>1</td>\n",
       "      <td>6</td>\n",
       "      <td>acept</td>\n",
       "      <td>not furnished</td>\n",
       "      <td>1000</td>\n",
       "      <td>2800</td>\n",
       "      <td>0</td>\n",
       "      <td>41</td>\n",
       "      <td>3841</td>\n",
       "    </tr>\n",
       "    <tr>\n",
       "      <th>3</th>\n",
       "      <td>Porto Alegre</td>\n",
       "      <td>51</td>\n",
       "      <td>2</td>\n",
       "      <td>1</td>\n",
       "      <td>0</td>\n",
       "      <td>2</td>\n",
       "      <td>acept</td>\n",
       "      <td>not furnished</td>\n",
       "      <td>270</td>\n",
       "      <td>1112</td>\n",
       "      <td>22</td>\n",
       "      <td>17</td>\n",
       "      <td>1421</td>\n",
       "    </tr>\n",
       "    <tr>\n",
       "      <th>4</th>\n",
       "      <td>São Paulo</td>\n",
       "      <td>25</td>\n",
       "      <td>1</td>\n",
       "      <td>1</td>\n",
       "      <td>0</td>\n",
       "      <td>1</td>\n",
       "      <td>not acept</td>\n",
       "      <td>not furnished</td>\n",
       "      <td>0</td>\n",
       "      <td>800</td>\n",
       "      <td>25</td>\n",
       "      <td>11</td>\n",
       "      <td>836</td>\n",
       "    </tr>\n",
       "    <tr>\n",
       "      <th>...</th>\n",
       "      <td>...</td>\n",
       "      <td>...</td>\n",
       "      <td>...</td>\n",
       "      <td>...</td>\n",
       "      <td>...</td>\n",
       "      <td>...</td>\n",
       "      <td>...</td>\n",
       "      <td>...</td>\n",
       "      <td>...</td>\n",
       "      <td>...</td>\n",
       "      <td>...</td>\n",
       "      <td>...</td>\n",
       "      <td>...</td>\n",
       "    </tr>\n",
       "    <tr>\n",
       "      <th>10687</th>\n",
       "      <td>Porto Alegre</td>\n",
       "      <td>63</td>\n",
       "      <td>2</td>\n",
       "      <td>1</td>\n",
       "      <td>1</td>\n",
       "      <td>5</td>\n",
       "      <td>not acept</td>\n",
       "      <td>furnished</td>\n",
       "      <td>402</td>\n",
       "      <td>1478</td>\n",
       "      <td>24</td>\n",
       "      <td>22</td>\n",
       "      <td>1926</td>\n",
       "    </tr>\n",
       "    <tr>\n",
       "      <th>10688</th>\n",
       "      <td>São Paulo</td>\n",
       "      <td>285</td>\n",
       "      <td>4</td>\n",
       "      <td>4</td>\n",
       "      <td>4</td>\n",
       "      <td>17</td>\n",
       "      <td>acept</td>\n",
       "      <td>not furnished</td>\n",
       "      <td>3100</td>\n",
       "      <td>15000</td>\n",
       "      <td>973</td>\n",
       "      <td>191</td>\n",
       "      <td>19260</td>\n",
       "    </tr>\n",
       "    <tr>\n",
       "      <th>10689</th>\n",
       "      <td>Rio de Janeiro</td>\n",
       "      <td>70</td>\n",
       "      <td>3</td>\n",
       "      <td>3</td>\n",
       "      <td>0</td>\n",
       "      <td>8</td>\n",
       "      <td>not acept</td>\n",
       "      <td>furnished</td>\n",
       "      <td>980</td>\n",
       "      <td>6000</td>\n",
       "      <td>332</td>\n",
       "      <td>78</td>\n",
       "      <td>7390</td>\n",
       "    </tr>\n",
       "    <tr>\n",
       "      <th>10690</th>\n",
       "      <td>Rio de Janeiro</td>\n",
       "      <td>120</td>\n",
       "      <td>2</td>\n",
       "      <td>2</td>\n",
       "      <td>2</td>\n",
       "      <td>8</td>\n",
       "      <td>acept</td>\n",
       "      <td>furnished</td>\n",
       "      <td>1585</td>\n",
       "      <td>12000</td>\n",
       "      <td>279</td>\n",
       "      <td>155</td>\n",
       "      <td>14020</td>\n",
       "    </tr>\n",
       "    <tr>\n",
       "      <th>10691</th>\n",
       "      <td>São Paulo</td>\n",
       "      <td>80</td>\n",
       "      <td>2</td>\n",
       "      <td>1</td>\n",
       "      <td>0</td>\n",
       "      <td>0</td>\n",
       "      <td>acept</td>\n",
       "      <td>not furnished</td>\n",
       "      <td>0</td>\n",
       "      <td>1400</td>\n",
       "      <td>165</td>\n",
       "      <td>22</td>\n",
       "      <td>1587</td>\n",
       "    </tr>\n",
       "  </tbody>\n",
       "</table>\n",
       "<p>10692 rows × 13 columns</p>\n",
       "</div>"
      ],
      "text/plain": [
       "                 city  area  rooms  bathroom  parking spaces  floor  \\\n",
       "0           São Paulo    70      2         1               1      7   \n",
       "1           São Paulo   320      4         4               0     20   \n",
       "2        Porto Alegre    80      1         1               1      6   \n",
       "3        Porto Alegre    51      2         1               0      2   \n",
       "4           São Paulo    25      1         1               0      1   \n",
       "...               ...   ...    ...       ...             ...    ...   \n",
       "10687    Porto Alegre    63      2         1               1      5   \n",
       "10688       São Paulo   285      4         4               4     17   \n",
       "10689  Rio de Janeiro    70      3         3               0      8   \n",
       "10690  Rio de Janeiro   120      2         2               2      8   \n",
       "10691       São Paulo    80      2         1               0      0   \n",
       "\n",
       "          animal      furniture  hoa (R$)  rent amount (R$)  \\\n",
       "0          acept      furnished      2065              3300   \n",
       "1          acept  not furnished      1200              4960   \n",
       "2          acept  not furnished      1000              2800   \n",
       "3          acept  not furnished       270              1112   \n",
       "4      not acept  not furnished         0               800   \n",
       "...          ...            ...       ...               ...   \n",
       "10687  not acept      furnished       402              1478   \n",
       "10688      acept  not furnished      3100             15000   \n",
       "10689  not acept      furnished       980              6000   \n",
       "10690      acept      furnished      1585             12000   \n",
       "10691      acept  not furnished         0              1400   \n",
       "\n",
       "       property tax (R$)  fire insurance (R$)  total (R$)  \n",
       "0                    211                   42        5618  \n",
       "1                   1750                   63        7973  \n",
       "2                      0                   41        3841  \n",
       "3                     22                   17        1421  \n",
       "4                     25                   11         836  \n",
       "...                  ...                  ...         ...  \n",
       "10687                 24                   22        1926  \n",
       "10688                973                  191       19260  \n",
       "10689                332                   78        7390  \n",
       "10690                279                  155       14020  \n",
       "10691                165                   22        1587  \n",
       "\n",
       "[10692 rows x 13 columns]"
      ]
     },
     "execution_count": 2,
     "metadata": {},
     "output_type": "execute_result"
    }
   ],
   "source": [
    "#reading csv file and displaying\n",
    "df=pd.read_csv(\"data_hackathon.csv\")\n",
    "df"
   ]
  },
  {
   "cell_type": "markdown",
   "id": "393f6c15",
   "metadata": {},
   "source": [
    "# Level 0 analysis"
   ]
  },
  {
   "cell_type": "markdown",
   "id": "2934d65a",
   "metadata": {},
   "source": [
    "# 1.Shape"
   ]
  },
  {
   "cell_type": "code",
   "execution_count": 3,
   "id": "fcf2e653",
   "metadata": {},
   "outputs": [
    {
     "data": {
      "text/plain": [
       "(10692, 13)"
      ]
     },
     "execution_count": 3,
     "metadata": {},
     "output_type": "execute_result"
    }
   ],
   "source": [
    "df.shape"
   ]
  },
  {
   "cell_type": "markdown",
   "id": "8c6326ef",
   "metadata": {},
   "source": [
    "# 2.Null value counts"
   ]
  },
  {
   "cell_type": "code",
   "execution_count": 4,
   "id": "f7c66b38",
   "metadata": {},
   "outputs": [
    {
     "data": {
      "text/plain": [
       "city                   0\n",
       "area                   0\n",
       "rooms                  0\n",
       "bathroom               0\n",
       "parking spaces         0\n",
       "floor                  0\n",
       "animal                 0\n",
       "furniture              0\n",
       "hoa (R$)               0\n",
       "rent amount (R$)       0\n",
       "property tax (R$)      0\n",
       "fire insurance (R$)    0\n",
       "total (R$)             0\n",
       "dtype: int64"
      ]
     },
     "execution_count": 4,
     "metadata": {},
     "output_type": "execute_result"
    }
   ],
   "source": [
    "df.isnull().sum()"
   ]
  },
  {
   "cell_type": "markdown",
   "id": "59034a36",
   "metadata": {},
   "source": [
    "# 3.Column names"
   ]
  },
  {
   "cell_type": "code",
   "execution_count": 5,
   "id": "86a85fa8",
   "metadata": {},
   "outputs": [
    {
     "data": {
      "text/plain": [
       "Index(['city', 'area', 'rooms', 'bathroom', 'parking spaces', 'floor',\n",
       "       'animal', 'furniture', 'hoa (R$)', 'rent amount (R$)',\n",
       "       'property tax (R$)', 'fire insurance (R$)', 'total (R$)'],\n",
       "      dtype='object')"
      ]
     },
     "execution_count": 5,
     "metadata": {},
     "output_type": "execute_result"
    }
   ],
   "source": [
    "df.columns"
   ]
  },
  {
   "cell_type": "markdown",
   "id": "b9566403",
   "metadata": {},
   "source": [
    "# 4. info of the data file"
   ]
  },
  {
   "cell_type": "code",
   "execution_count": 6,
   "id": "4f84f2a3",
   "metadata": {},
   "outputs": [
    {
     "name": "stdout",
     "output_type": "stream",
     "text": [
      "<class 'pandas.core.frame.DataFrame'>\n",
      "RangeIndex: 10692 entries, 0 to 10691\n",
      "Data columns (total 13 columns):\n",
      " #   Column               Non-Null Count  Dtype \n",
      "---  ------               --------------  ----- \n",
      " 0   city                 10692 non-null  object\n",
      " 1   area                 10692 non-null  int64 \n",
      " 2   rooms                10692 non-null  int64 \n",
      " 3   bathroom             10692 non-null  int64 \n",
      " 4   parking spaces       10692 non-null  int64 \n",
      " 5   floor                10692 non-null  int64 \n",
      " 6   animal               10692 non-null  object\n",
      " 7   furniture            10692 non-null  object\n",
      " 8   hoa (R$)             10692 non-null  int64 \n",
      " 9   rent amount (R$)     10692 non-null  int64 \n",
      " 10  property tax (R$)    10692 non-null  int64 \n",
      " 11  fire insurance (R$)  10692 non-null  int64 \n",
      " 12  total (R$)           10692 non-null  int64 \n",
      "dtypes: int64(10), object(3)\n",
      "memory usage: 1.1+ MB\n"
     ]
    }
   ],
   "source": [
    "df.info()"
   ]
  },
  {
   "cell_type": "markdown",
   "id": "f600037b",
   "metadata": {},
   "source": [
    "# 5.Seperating numerical and categorical data"
   ]
  },
  {
   "cell_type": "code",
   "execution_count": 7,
   "id": "ee870fc2",
   "metadata": {},
   "outputs": [
    {
     "name": "stdout",
     "output_type": "stream",
     "text": [
      "categorical     numerical\n",
      "--------------  -------------------\n",
      "city            area\n",
      "rooms           hoa (R$)\n",
      "bathroom        rent amount (R$)\n",
      "parking spaces  property tax (R$)\n",
      "floor           fire insurance (R$)\n",
      "animal          total (R$)\n",
      "furniture\n"
     ]
    }
   ],
   "source": [
    "# creating a user defined function for seperating numerical or categorical data\n",
    "def seperate_data_types(df):\n",
    "    categorical=[]\n",
    "    numerical=[]\n",
    "    for column in df.columns:\n",
    "        if df[column].nunique()<100:\n",
    "            categorical.append(column)\n",
    "        else:\n",
    "            numerical.append(column)\n",
    "    return categorical,numerical\n",
    "categorical,numerical=seperate_data_types(df)\n",
    "\n",
    "# using tabulate to print the data\n",
    "from tabulate import tabulate\n",
    "table =[categorical,numerical]\n",
    "print(tabulate({\"categorical\":categorical,\"numerical\":numerical},headers =[\"categorical\",\"numerical\"]))"
   ]
  },
  {
   "cell_type": "markdown",
   "id": "44c14afa",
   "metadata": {},
   "source": [
    "here data is not in correct list hence we will remove and append it in correct list"
   ]
  },
  {
   "cell_type": "code",
   "execution_count": 8,
   "id": "bb3c1f1d",
   "metadata": {},
   "outputs": [],
   "source": [
    "categorical.remove(\"rooms\")\n",
    "numerical.append(\"rooms\")\n",
    "\n",
    "categorical.remove(\"bathroom\")\n",
    "numerical.append(\"bathroom\")\n",
    "\n",
    "categorical.remove(\"parking spaces\")\n",
    "numerical.append(\"parking spaces\")\n",
    "\n",
    "categorical.remove(\"floor\")\n",
    "numerical.append(\"floor\")"
   ]
  },
  {
   "cell_type": "code",
   "execution_count": 9,
   "id": "6f355045",
   "metadata": {},
   "outputs": [
    {
     "data": {
      "text/plain": [
       "['city', 'animal', 'furniture']"
      ]
     },
     "execution_count": 9,
     "metadata": {},
     "output_type": "execute_result"
    }
   ],
   "source": [
    "categorical"
   ]
  },
  {
   "cell_type": "code",
   "execution_count": 10,
   "id": "d0aa5bfd",
   "metadata": {},
   "outputs": [
    {
     "data": {
      "text/plain": [
       "['area',\n",
       " 'hoa (R$)',\n",
       " 'rent amount (R$)',\n",
       " 'property tax (R$)',\n",
       " 'fire insurance (R$)',\n",
       " 'total (R$)',\n",
       " 'rooms',\n",
       " 'bathroom',\n",
       " 'parking spaces',\n",
       " 'floor']"
      ]
     },
     "execution_count": 10,
     "metadata": {},
     "output_type": "execute_result"
    }
   ],
   "source": [
    "numerical"
   ]
  },
  {
   "cell_type": "markdown",
   "id": "e211237a",
   "metadata": {},
   "source": [
    "# Level 1 Analysis (Univariate analysis)"
   ]
  },
  {
   "cell_type": "markdown",
   "id": "557217d4",
   "metadata": {},
   "source": [
    "# 1.categorical data"
   ]
  },
  {
   "cell_type": "code",
   "execution_count": 11,
   "id": "ed3cedcb",
   "metadata": {},
   "outputs": [],
   "source": [
    "# creating a user defined function  for calculating mode, null values and unique values\n",
    "def info_of_cat(col):\n",
    "    print(f\"unique values in {col} are: {df[col].unique()}\")\n",
    "    print(f\"mode of {col} is {df[col].mode()[0]}\")\n",
    "    print(f\"number of missing values in {col} is {df[col].isnull().sum()}\")\n",
    "    if df[col].isnull().sum()>0:\n",
    "        print(f\"\\n there are null values in the{col} columns\")"
   ]
  },
  {
   "cell_type": "code",
   "execution_count": 12,
   "id": "922e31a7",
   "metadata": {},
   "outputs": [
    {
     "name": "stdout",
     "output_type": "stream",
     "text": [
      "unique values in city are: ['São Paulo' 'Porto Alegre' 'Rio de Janeiro' 'Campinas' 'Belo Horizonte']\n",
      "mode of city is São Paulo\n",
      "number of missing values in city is 0\n"
     ]
    }
   ],
   "source": [
    "info_of_cat(\"city\")"
   ]
  },
  {
   "cell_type": "code",
   "execution_count": 13,
   "id": "85b52bae",
   "metadata": {},
   "outputs": [
    {
     "name": "stdout",
     "output_type": "stream",
     "text": [
      "unique values in animal are: ['acept' 'not acept']\n",
      "mode of animal is acept\n",
      "number of missing values in animal is 0\n"
     ]
    }
   ],
   "source": [
    "info_of_cat(\"animal\")"
   ]
  },
  {
   "cell_type": "code",
   "execution_count": 14,
   "id": "3b123ffc",
   "metadata": {},
   "outputs": [
    {
     "name": "stdout",
     "output_type": "stream",
     "text": [
      "unique values in furniture are: ['furnished' 'not furnished']\n",
      "mode of furniture is not furnished\n",
      "number of missing values in furniture is 0\n"
     ]
    }
   ],
   "source": [
    "info_of_cat(\"furniture\")"
   ]
  },
  {
   "cell_type": "code",
   "execution_count": 15,
   "id": "c51d6dfe",
   "metadata": {},
   "outputs": [
    {
     "data": {
      "image/png": "[encoded data removed]",
      "text/plain": [
       "<Figure size 1080x504 with 2 Axes>"
      ]
     },
     "metadata": {
      "needs_background": "light"
     },
     "output_type": "display_data"
    }
   ],
   "source": [
    "# graphs for city column using seaborn\n",
    "fig,ax=plt.subplots(1,2,figsize=(15,7))\n",
    "ax[0].set_title(\"count of city \")\n",
    "# setting the title\n",
    "\n",
    "percentage=df[\"city\"].value_counts()\n",
    "# counting the values \n",
    "\n",
    "labels=list(df[\"city\"].value_counts().index)\n",
    "# convert the index of the value counts into the list\n",
    "\n",
    "sns.countplot(x=df[\"city\"],ax=ax[0])\n",
    "plt.pie(percentage,labels=labels,autopct=\"%0.2f%%\")\n",
    "plt.show()"
   ]
  },
  {
   "cell_type": "markdown",
   "id": "5ba75f19",
   "metadata": {},
   "source": [
    "around 5800 properties is in the city of sao Paulo"
   ]
  },
  {
   "cell_type": "code",
   "execution_count": 16,
   "id": "3f77906c",
   "metadata": {},
   "outputs": [
    {
     "data": {
      "image/png": "[encoded data removed]",
      "text/plain": [
       "<Figure size 1080x504 with 2 Axes>"
      ]
     },
     "metadata": {
      "needs_background": "light"
     },
     "output_type": "display_data"
    }
   ],
   "source": [
    "# graphs for animal column using seaborn\n",
    "fig,ax=plt.subplots(1,2,figsize=(15,7))\n",
    "ax[0].set_title(\"count of animal \")\n",
    "# setting the title\n",
    "\n",
    "percentage=df[\"animal\"].value_counts()\n",
    "# counting the values \n",
    "\n",
    "labels=list(df[\"animal\"].value_counts().index)\n",
    "# convert the index of the value counts into the list\n",
    "\n",
    "sns.countplot(x=df[\"animal\"],ax=ax[0])\n",
    "plt.pie(percentage,labels=labels,autopct=\"%0.2f%%\")\n",
    "plt.show()"
   ]
  },
  {
   "cell_type": "markdown",
   "id": "81c7df1b",
   "metadata": {},
   "source": [
    "77% of properties accept the animal"
   ]
  },
  {
   "cell_type": "code",
   "execution_count": 17,
   "id": "c86b8864",
   "metadata": {},
   "outputs": [
    {
     "data": {
      "image/png": "[encoded data removed]",
      "text/plain": [
       "<Figure size 1080x504 with 2 Axes>"
      ]
     },
     "metadata": {
      "needs_background": "light"
     },
     "output_type": "display_data"
    }
   ],
   "source": [
    "# graphs for furniture column using seaborn\n",
    "fig,ax=plt.subplots(1,2,figsize=(15,7))\n",
    "ax[0].set_title(\"count of furniture \")\n",
    "# setting the title\n",
    "\n",
    "percentage=df[\"furniture\"].value_counts()\n",
    "# counting the values \n",
    "\n",
    "labels=list(df[\"furniture\"].value_counts().index)\n",
    "# convert the index of the value counts into the list\n",
    "\n",
    "sns.countplot(x=df[\"furniture\"],ax=ax[0])\n",
    "plt.pie(percentage,labels=labels,autopct=\"%0.2f%%\")\n",
    "plt.show()"
   ]
  },
  {
   "cell_type": "markdown",
   "id": "18fbfed6",
   "metadata": {},
   "source": [
    "onl;y 24.37 % of houses are fully furni|shed"
   ]
  },
  {
   "cell_type": "markdown",
   "id": "2fbf8ce5",
   "metadata": {},
   "source": [
    "# 2.Numerical columns"
   ]
  },
  {
   "cell_type": "code",
   "execution_count": 18,
   "id": "83862520",
   "metadata": {},
   "outputs": [],
   "source": [
    "# creating a user defined function for numerical data\n",
    "def info_of_numerical(col):\n",
    "    print(f\" the mean of {col} is {df[col].mean()}\")\n",
    "    print(f\" the median of {col} is {df[col].median()}\")\n",
    "    print(f\" the mode of {col} is {df[col].mode()}\")\n",
    "    print(f\" the standard deviation of {col} is {df[col].std()}\")\n",
    "    print(f\" the no of missing values for  {col} is {df[col].isnull().sum()}\")"
   ]
  },
  {
   "cell_type": "code",
   "execution_count": 19,
   "id": "6f5c25f8",
   "metadata": {},
   "outputs": [
    {
     "name": "stdout",
     "output_type": "stream",
     "text": [
      " the mean of total (R$) is 5490.4869996258885\n",
      " the median of total (R$) is 3581.5\n",
      " the mode of total (R$) is 0    2555\n",
      "dtype: int64\n",
      " the standard deviation of total (R$) is 16484.72591235027\n",
      " the no of missing values for  total (R$) is 0\n"
     ]
    }
   ],
   "source": [
    "info_of_numerical(\"total (R$)\")"
   ]
  },
  {
   "cell_type": "code",
   "execution_count": 20,
   "id": "6cfdb933",
   "metadata": {},
   "outputs": [
    {
     "name": "stdout",
     "output_type": "stream",
     "text": [
      " the mean of floor is 5.0679947624392065\n",
      " the median of floor is 3.0\n",
      " the mode of floor is 0    0\n",
      "dtype: int64\n",
      " the standard deviation of floor is 6.069050243218268\n",
      " the no of missing values for  floor is 0\n"
     ]
    }
   ],
   "source": [
    "info_of_numerical(\"floor\")"
   ]
  },
  {
   "cell_type": "code",
   "execution_count": 21,
   "id": "12e23c1c",
   "metadata": {},
   "outputs": [
    {
     "name": "stdout",
     "output_type": "stream",
     "text": [
      " the mean of parking spaces is 1.6091470258136924\n",
      " the median of parking spaces is 1.0\n",
      " the mode of parking spaces is 0    1\n",
      "dtype: int64\n",
      " the standard deviation of parking spaces is 1.5895207238054723\n",
      " the no of missing values for  parking spaces is 0\n"
     ]
    }
   ],
   "source": [
    "info_of_numerical(\"parking spaces\")"
   ]
  },
  {
   "cell_type": "code",
   "execution_count": 22,
   "id": "0bf23adc",
   "metadata": {},
   "outputs": [
    {
     "name": "stdout",
     "output_type": "stream",
     "text": [
      " the mean of property tax (R$) is 366.70435839880287\n",
      " the median of property tax (R$) is 125.0\n",
      " the mode of property tax (R$) is 0    0\n",
      "dtype: int64\n",
      " the standard deviation of property tax (R$) is 3107.832321161917\n",
      " the no of missing values for  property tax (R$) is 0\n"
     ]
    }
   ],
   "source": [
    "info_of_numerical(\"property tax (R$)\")"
   ]
  },
  {
   "cell_type": "code",
   "execution_count": 23,
   "id": "61f4b5c0",
   "metadata": {},
   "outputs": [
    {
     "name": "stdout",
     "output_type": "stream",
     "text": [
      " the mean of rent amount (R$) is 3896.247194163861\n",
      " the median of rent amount (R$) is 2661.0\n",
      " the mode of rent amount (R$) is 0    2500\n",
      "dtype: int64\n",
      " the standard deviation of rent amount (R$) is 3408.5455176710816\n",
      " the no of missing values for  rent amount (R$) is 0\n"
     ]
    }
   ],
   "source": [
    "info_of_numerical(\"rent amount (R$)\")"
   ]
  },
  {
   "cell_type": "code",
   "execution_count": 24,
   "id": "04c70c80",
   "metadata": {},
   "outputs": [
    {
     "name": "stdout",
     "output_type": "stream",
     "text": [
      " the mean of area is 149.21791994014217\n",
      " the median of area is 90.0\n",
      " the mode of area is 0    50\n",
      "dtype: int64\n",
      " the standard deviation of area is 537.0169423364867\n",
      " the no of missing values for  area is 0\n"
     ]
    }
   ],
   "source": [
    "info_of_numerical(\"area\")"
   ]
  },
  {
   "cell_type": "code",
   "execution_count": 25,
   "id": "6d4edb28",
   "metadata": {},
   "outputs": [
    {
     "name": "stdout",
     "output_type": "stream",
     "text": [
      " the mean of rooms is 2.506079311634867\n",
      " the median of rooms is 2.0\n",
      " the mode of rooms is 0    3\n",
      "dtype: int64\n",
      " the standard deviation of rooms is 1.171266254098269\n",
      " the no of missing values for  rooms is 0\n"
     ]
    }
   ],
   "source": [
    "info_of_numerical(\"rooms\")"
   ]
  },
  {
   "cell_type": "code",
   "execution_count": 26,
   "id": "ec12b6b6",
   "metadata": {},
   "outputs": [
    {
     "name": "stdout",
     "output_type": "stream",
     "text": [
      " the mean of bathroom is 2.2368125701459034\n",
      " the median of bathroom is 2.0\n",
      " the mode of bathroom is 0    1\n",
      "dtype: int64\n",
      " the standard deviation of bathroom is 1.4071981983604243\n",
      " the no of missing values for  bathroom is 0\n"
     ]
    }
   ],
   "source": [
    "info_of_numerical(\"bathroom\")"
   ]
  },
  {
   "cell_type": "code",
   "execution_count": 27,
   "id": "49ffc2e6",
   "metadata": {},
   "outputs": [
    {
     "name": "stdout",
     "output_type": "stream",
     "text": [
      "row and columns before removing outliers (10692, 13)\n",
      "wait till the shape after removing outliers is printed....\n",
      "i is  area\n",
      "the lower range of area is -133.0\n",
      "the upper range of area is 371.0\n",
      "total outlier in  area are 672\n",
      "*****************************************************\n",
      "i is  total (R$)\n",
      "the lower range of total (R$) is -4997.625\n",
      "the upper range of total (R$) is 13827.375\n",
      "total outlier in  total (R$) are 706\n",
      "*****************************************************\n",
      "i is  property tax (R$)\n",
      "the lower range of property tax (R$) is -467.5\n",
      "the upper range of property tax (R$) is 880.5\n",
      "total outlier in  property tax (R$) are 1081\n",
      "*****************************************************\n",
      "i is  rent amount (R$)\n",
      "the lower range of rent amount (R$) is -3675.0\n",
      "the upper range of rent amount (R$) is 10205.0\n",
      "total outlier in  rent amount (R$) are 715\n",
      "*****************************************************\n",
      "i is  bathroom\n",
      "the lower range of bathroom is -2.0\n",
      "the upper range of bathroom is 6.0\n",
      "total outlier in  bathroom are 103\n",
      "*****************************************************\n",
      "i is  rooms\n",
      "the lower range of rooms is 0.5\n",
      "the upper range of rooms is 4.5\n",
      "total outlier in  rooms are 408\n",
      "*****************************************************\n",
      "i is  parking spaces\n",
      "the lower range of parking spaces is -3.0\n",
      "the upper range of parking spaces is 5.0\n",
      "total outlier in  parking spaces are 322\n",
      "*****************************************************\n",
      "i is  floor\n",
      "the lower range of floor is -9.5\n",
      "the upper range of floor is 18.5\n",
      "total outlier in  floor are 277\n",
      "*****************************************************\n"
     ]
    }
   ],
   "source": [
    "sldf=pd.read_csv(\"data_hackathon.csv\")\n",
    "print(\"row and columns before removing outliers\",sldf.shape)\n",
    "print(\"wait till the shape after removing outliers is printed....\")\n",
    "\n",
    "def myoutlier(sldf,col):\n",
    "    #print(len(newdf))\n",
    "    Q3=np.quantile(sldf[col],0.75)\n",
    "    Q1=np.quantile(sldf[col],0.25)\n",
    "    \n",
    "    IQR=Q3-Q1\n",
    "    \n",
    "    global my_list\n",
    "    global my_outlier_df\n",
    "    \n",
    "    lower_range=Q1-1.5*IQR\n",
    "    upper_range=Q3+1.5*IQR\n",
    "    \n",
    "    print(\"the lower range of\",col,\"is\",lower_range)\n",
    "    print(\"the upper range of\",col,\"is\",upper_range)\n",
    "    \n",
    "    my_list=[x for x in sldf[col] if((x<lower_range)|(x>upper_range))]     # list comprehension\n",
    "    \n",
    "    print(\"total outlier in \",col,\"are\",len(my_list))\n",
    "    \n",
    "    my_outlier_df=sldf.loc[sldf[col].isin(my_list)]\n",
    "    \n",
    "k=[\"area\",\"total (R$)\",\"property tax (R$)\",\"rent amount (R$)\",\"bathroom\",\"rooms\",\"parking spaces\",\"floor\"]\n",
    "\n",
    "for i in k:\n",
    "    print(\"i is \",i)\n",
    "    myoutlier(sldf,i)\n",
    "    print(\"*****************************************************\")"
   ]
  },
  {
   "cell_type": "code",
   "execution_count": 28,
   "id": "3669fd95",
   "metadata": {},
   "outputs": [],
   "source": [
    "df1=df\n",
    "a=df[(df[\"area\"]<-133.0)|(df[\"area\"]>371.0)]\n",
    "df1=df1.drop(a.index,axis=0)"
   ]
  },
  {
   "cell_type": "code",
   "execution_count": 29,
   "id": "43697e0b",
   "metadata": {},
   "outputs": [
    {
     "data": {
      "text/plain": [
       "(10020, 13)"
      ]
     },
     "execution_count": 29,
     "metadata": {},
     "output_type": "execute_result"
    }
   ],
   "source": [
    "df1.shape"
   ]
  },
  {
   "cell_type": "code",
   "execution_count": 30,
   "id": "118fae93",
   "metadata": {},
   "outputs": [
    {
     "data": {
      "image/png": "[encoded data removed]",
      "text/plain": [
       "<Figure size 1080x504 with 2 Axes>"
      ]
     },
     "metadata": {
      "needs_background": "light"
     },
     "output_type": "display_data"
    }
   ],
   "source": [
    "# distribution of area\n",
    "fig,ax=plt.subplots(1,2,figsize=(15,7))\n",
    "sns.histplot(x=df1[\"area\"],ax=ax[1],color=\"m\",bins=5)\n",
    "sns.boxplot(x=df1[\"area\"],ax=ax[0],color=\"g\")\n",
    "plt.show()"
   ]
  },
  {
   "cell_type": "markdown",
   "id": "3c2f62d6",
   "metadata": {},
   "source": [
    "Maximum no of properties have area between 10 to 150"
   ]
  },
  {
   "cell_type": "code",
   "execution_count": 31,
   "id": "c64ce16c",
   "metadata": {},
   "outputs": [],
   "source": [
    "b=df1[(df1[\"rent amount (R$)\"]<-3675.0)|(df1[\"rent amount (R$)\"]>10205.0)]\n",
    "df1=df1.drop(b.index,axis=0,errors=\"ignore\")"
   ]
  },
  {
   "cell_type": "code",
   "execution_count": 32,
   "id": "353a845c",
   "metadata": {},
   "outputs": [
    {
     "data": {
      "image/png": "[encoded data removed]",
      "text/plain": [
       "<Figure size 1080x504 with 2 Axes>"
      ]
     },
     "metadata": {
      "needs_background": "light"
     },
     "output_type": "display_data"
    }
   ],
   "source": [
    "\n",
    "fig,ax=plt.subplots(1,2,figsize=(15,7))\n",
    "sns.histplot(x=df1[\"rent amount (R$)\"],ax=ax[1],color=\"y\",bins=5)\n",
    "sns.boxplot(x=df1[\"rent amount (R$)\"],ax=ax[0],color=\"g\")\n",
    "plt.show()"
   ]
  },
  {
   "cell_type": "markdown",
   "id": "e7127852",
   "metadata": {},
   "source": [
    "Most of the properties have rent amount between 200 to 4000 (R$)"
   ]
  },
  {
   "cell_type": "code",
   "execution_count": 33,
   "id": "cbe8f3b7",
   "metadata": {},
   "outputs": [],
   "source": [
    "c=df1[(df1[\"property tax (R$)\"]<-467.5)|(df1[\"property tax (R$)\"]>880.5)]\n",
    "df1=df1.drop(c.index,axis=0,errors=\"ignore\")"
   ]
  },
  {
   "cell_type": "code",
   "execution_count": 34,
   "id": "4c846d38",
   "metadata": {},
   "outputs": [
    {
     "data": {
      "image/png": "[encoded data removed]",
      "text/plain": [
       "<Figure size 1080x504 with 2 Axes>"
      ]
     },
     "metadata": {
      "needs_background": "light"
     },
     "output_type": "display_data"
    }
   ],
   "source": [
    "fig,ax=plt.subplots(1,2,figsize=(15,7))\n",
    "sns.histplot(x=df1[\"property tax (R$)\"],ax=ax[1],color=\"b\",bins=5)\n",
    "sns.boxplot(x=df1[\"property tax (R$)\"],ax=ax[0],color=\"y\")\n",
    "plt.show()"
   ]
  },
  {
   "cell_type": "markdown",
   "id": "4d55b44b",
   "metadata": {},
   "source": [
    "Most of the properties have property tax between 0 to 200 (R$) "
   ]
  },
  {
   "cell_type": "code",
   "execution_count": 35,
   "id": "9ef9625a",
   "metadata": {},
   "outputs": [],
   "source": [
    "d=df1[(df1[\"total (R$)\"]<-4997.625)|(df1[\"total (R$)\"]>13827.375)]\n",
    "df1=df1.drop(d.index,axis=0,errors=\"ignore\")"
   ]
  },
  {
   "cell_type": "code",
   "execution_count": 36,
   "id": "a6f65a94",
   "metadata": {},
   "outputs": [
    {
     "data": {
      "image/png": "[encoded data removed]",
      "text/plain": [
       "<Figure size 1080x504 with 2 Axes>"
      ]
     },
     "metadata": {
      "needs_background": "light"
     },
     "output_type": "display_data"
    }
   ],
   "source": [
    "fig,ax=plt.subplots(1,2,figsize=(15,7))\n",
    "sns.histplot(x=df1[\"total (R$)\"],ax=ax[1],color=\"c\",bins=5)\n",
    "sns.boxplot(x=df1[\"total (R$)\"],ax=ax[0],color=\"y\")\n",
    "plt.show()"
   ]
  },
  {
   "cell_type": "markdown",
   "id": "67478329",
   "metadata": {},
   "source": [
    " total rent for most of the properties is between 1500 to 6000 (R$)"
   ]
  },
  {
   "cell_type": "markdown",
   "id": "aa05144b",
   "metadata": {},
   "source": [
    "# Level 2 Analysis (Bivariate analysis)"
   ]
  },
  {
   "cell_type": "markdown",
   "id": "b28e7931",
   "metadata": {},
   "source": [
    "Cat-Cat"
   ]
  },
  {
   "cell_type": "code",
   "execution_count": 37,
   "id": "0b2a74f9",
   "metadata": {},
   "outputs": [
    {
     "data": {
      "image/png": "[encoded data removed]",
      "text/plain": [
       "<Figure size 720x504 with 1 Axes>"
      ]
     },
     "metadata": {
      "needs_background": "light"
     },
     "output_type": "display_data"
    }
   ],
   "source": [
    "fig,ax=plt.subplots(figsize=(10,7))\n",
    "sns.countplot(x=\"furniture\",hue=\"city\",data=df1)\n",
    "plt.show()"
   ]
  },
  {
   "cell_type": "markdown",
   "id": "fa40c404",
   "metadata": {},
   "source": [
    "No of not furnished properties are relatively more than the the furnished properties Also most of the furnished and not furnished properties are in the city of Sao Paulo as the no of properties in this city is 55 % "
   ]
  },
  {
   "cell_type": "code",
   "execution_count": 38,
   "id": "bdd8b998",
   "metadata": {},
   "outputs": [
    {
     "data": {
      "image/png": "[encoded data removed]",
      "text/plain": [
       "<Figure size 720x504 with 1 Axes>"
      ]
     },
     "metadata": {
      "needs_background": "light"
     },
     "output_type": "display_data"
    }
   ],
   "source": [
    "fig,ax=plt.subplots(figsize=(10,7))\n",
    "sns.countplot(x=\"animal\",hue=\"city\",data=df1)\n",
    "plt.show()"
   ]
  },
  {
   "cell_type": "markdown",
   "id": "b6b603db",
   "metadata": {},
   "source": [
    "No of animal accepeting properties are relatively more than the the animal not accepting properties Also most of the animal accepting and not accepting properties are in the city of Sao Paulo as the no of properties in this city is 55 %\n",
    "But by the graph,no of animal not accepting properties in other cities is also very less."
   ]
  },
  {
   "cell_type": "markdown",
   "id": "6e22bbdc",
   "metadata": {},
   "source": [
    "Cat- num"
   ]
  },
  {
   "cell_type": "code",
   "execution_count": 39,
   "id": "0b70682d",
   "metadata": {
    "scrolled": true
   },
   "outputs": [
    {
     "data": {
      "image/png": "[encoded data removed]",
      "text/plain": [
       "<Figure size 1080x504 with 1 Axes>"
      ]
     },
     "metadata": {
      "needs_background": "light"
     },
     "output_type": "display_data"
    }
   ],
   "source": [
    "fig,ax=plt.subplots(figsize=(15,7))\n",
    "sns.histplot(x=df1[\"total (R$)\"],hue=df[\"city\"],ax=ax,bins=5)\n",
    "plt.show()"
   ]
  },
  {
   "cell_type": "markdown",
   "id": "7e535ec5",
   "metadata": {},
   "source": [
    "Max no of properties are in city  sao paulo with min total rest (within 2000(R$))"
   ]
  },
  {
   "cell_type": "code",
   "execution_count": 40,
   "id": "ca0c2603",
   "metadata": {},
   "outputs": [
    {
     "data": {
      "image/png": "[encoded data removed]",
      "text/plain": [
       "<Figure size 1080x504 with 1 Axes>"
      ]
     },
     "metadata": {
      "needs_background": "light"
     },
     "output_type": "display_data"
    }
   ],
   "source": [
    "fig,ax=plt.subplots(figsize=(15,7))\n",
    "sns.histplot(x=df1[\"rent amount (R$)\"],hue=df[\"city\"],ax=ax)\n",
    "plt.show()"
   ]
  },
  {
   "cell_type": "markdown",
   "id": "9720e01c",
   "metadata": {},
   "source": [
    "max properties are  in city sao paulo  with min rent 2000  to 4000"
   ]
  },
  {
   "cell_type": "code",
   "execution_count": 41,
   "id": "4d60b53a",
   "metadata": {},
   "outputs": [
    {
     "data": {
      "image/png": "[encoded data removed]",
      "text/plain": [
       "<Figure size 1080x504 with 1 Axes>"
      ]
     },
     "metadata": {
      "needs_background": "light"
     },
     "output_type": "display_data"
    }
   ],
   "source": [
    "fig,ax=plt.subplots(figsize=(15,7))\n",
    "sns.histplot(x=df1[\"area\"],hue=df[\"city\"],ax=ax)\n",
    "plt.show()"
   ]
  },
  {
   "cell_type": "markdown",
   "id": "88093726",
   "metadata": {},
   "source": [
    "the max no of properties in city sao paulo have the area below 150"
   ]
  },
  {
   "cell_type": "code",
   "execution_count": 42,
   "id": "4c6a0acd",
   "metadata": {},
   "outputs": [
    {
     "data": {
      "image/png": "[encoded data removed]",
      "text/plain": [
       "<Figure size 1080x504 with 1 Axes>"
      ]
     },
     "metadata": {
      "needs_background": "light"
     },
     "output_type": "display_data"
    }
   ],
   "source": [
    "fig,ax=plt.subplots(figsize=(15,7))\n",
    "sns.histplot(x=df1[\"property tax (R$)\"],hue=df[\"city\"],ax=ax)\n",
    "plt.show()"
   ]
  },
  {
   "cell_type": "markdown",
   "id": "6d4165e3",
   "metadata": {},
   "source": [
    "the property tax is min for most of the properties in the city of sao paulo"
   ]
  },
  {
   "cell_type": "markdown",
   "id": "eb431ef0",
   "metadata": {},
   "source": [
    "# Level 3 Analysis (Multivariate analysis)"
   ]
  },
  {
   "cell_type": "code",
   "execution_count": null,
   "id": "83e9d473",
   "metadata": {},
   "outputs": [],
   "source": [
    "df1=df1.loc[(df1.city==\"São Paulo\")]\n",
    "sns.catplot(x=\"total (R$)\",y=\"area\",data=df2,ci=None,kind='bar',)\n",
    "plt.show()"
   ]
  },
  {
   "cell_type": "markdown",
   "id": "2ff72f30",
   "metadata": {},
   "source": [
    "area above 150"
   ]
  },
  {
   "cell_type": "code",
   "execution_count": null,
   "id": "e9506b28",
   "metadata": {},
   "outputs": [],
   "source": [
    "df3=df1[(df1[\"area\"]>150)|(df1[\"total (R$)\"]<5000)|(df1[\"property tax (R$)\"]<200)|(df1[\"rent amount (R$)\"]<4000)]\n",
    "df3"
   ]
  },
  {
   "cell_type": "code",
   "execution_count": null,
   "id": "ca88135c",
   "metadata": {},
   "outputs": [],
   "source": []
  },
  {
   "cell_type": "code",
   "execution_count": null,
   "id": "0a087518",
   "metadata": {},
   "outputs": [],
   "source": []
  },
  {
   "cell_type": "code",
   "execution_count": null,
   "id": "745422c6",
   "metadata": {},
   "outputs": [],
   "source": []
  },
  {
   "cell_type": "code",
   "execution_count": null,
   "id": "8c08e99d",
   "metadata": {},
   "outputs": [],
   "source": []
  },
  {
   "cell_type": "code",
   "execution_count": null,
   "id": "409559e7",
   "metadata": {},
   "outputs": [],
   "source": []
  },
  {
   "cell_type": "code",
   "execution_count": null,
   "id": "9a7658c2",
   "metadata": {},
   "outputs": [],
   "source": []
  },
  {
   "cell_type": "code",
   "execution_count": null,
   "id": "bd6d72f0",
   "metadata": {},
   "outputs": [],
   "source": []
  },
  {
   "cell_type": "code",
   "execution_count": null,
   "id": "ee430418",
   "metadata": {},
   "outputs": [],
   "source": []
  },
  {
   "cell_type": "code",
   "execution_count": null,
   "id": "36883975",
   "metadata": {},
   "outputs": [],
   "source": []
  },
  {
   "cell_type": "code",
   "execution_count": null,
   "id": "aee29f75",
   "metadata": {},
   "outputs": [],
   "source": []
  },
  {
   "cell_type": "code",
   "execution_count": null,
   "id": "e82ae43c",
   "metadata": {},
   "outputs": [],
   "source": []
  },
  {
   "cell_type": "code",
   "execution_count": null,
   "id": "e31a1898",
   "metadata": {},
   "outputs": [],
   "source": []
  },
  {
   "cell_type": "code",
   "execution_count": null,
   "id": "db80a99b",
   "metadata": {},
   "outputs": [],
   "source": []
  }
 ],
 "metadata": {
  "kernelspec": {
   "display_name": "Python 3 (ipykernel)",
   "language": "python",
   "name": "python3"
  },
  "language_info": {
   "codemirror_mode": {
    "name": "ipython",
    "version": 3
   },
   "file_extension": ".py",
   "mimetype": "text/x-python",
   "name": "python",
   "nbconvert_exporter": "python",
   "pygments_lexer": "ipython3",
   "version": "3.9.7"
  }
 },
 "nbformat": 4,
 "nbformat_minor": 5
}
